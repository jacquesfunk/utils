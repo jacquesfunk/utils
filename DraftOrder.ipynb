{
 "cells": [
  {
   "cell_type": "code",
   "execution_count": null,
   "metadata": {},
   "outputs": [],
   "source": [
    "\"\"\"\n",
    "Use numpy to shuffle items\n",
    "\"\"\"\n",
    "import numpy as np\n",
    "import pandas as pd\n",
    "\n",
    "places = [\"Amanda\", \"Blake\", \"Dalia\", \"Lisa\", \"Mandie\", \"McKenzie\", \"Muneer\", \"Tiffany\"]\n",
    "\n",
    "# Initialize a dictionary to store the counts\n",
    "counts = {place: 0 for place in places}\n",
    "\n",
    "# Run the code 1000 times\n",
    "for _ in range(1000):\n",
    "    np.random.shuffle(places)\n",
    "    first_place = places[0]\n",
    "    counts[first_place] += 1\n",
    "\n",
    "# Create a DataFrame from the counts dictionary\n",
    "df = pd.DataFrame(list(counts.items()), columns=['Place', 'Count'])\n",
    "\n",
    "# Sort the DataFrame in descending order by the Count column\n",
    "df = df.sort_values(by='Count', ascending=False)\n",
    "\n",
    "print(df)"
   ]
  }
 ],
 "metadata": {
  "language_info": {
   "name": "python"
  },
  "orig_nbformat": 4
 },
 "nbformat": 4,
 "nbformat_minor": 2
}
